{
  "nbformat": 4,
  "nbformat_minor": 0,
  "metadata": {
    "colab": {
      "provenance": [],
      "gpuType": "T4",
      "private_outputs": true,
      "include_colab_link": true
    },
    "kernelspec": {
      "name": "python3",
      "display_name": "Python 3"
    },
    "language_info": {
      "name": "python"
    },
    "accelerator": "GPU"
  },
  "cells": [
    {
      "cell_type": "markdown",
      "metadata": {
        "id": "view-in-github",
        "colab_type": "text"
      },
      "source": [
        "<a href=\"https://colab.research.google.com/github/petertseng0517/REG-TZUCHI-Library/blob/main/%E3%80%90REG_a%E3%80%91RAG01_%E6%89%93%E9%80%A0%E5%90%91%E9%87%8F%E8%B3%87%E6%96%99%E5%BA%AB.ipynb\" target=\"_parent\"><img src=\"https://colab.research.google.com/assets/colab-badge.svg\" alt=\"Open In Colab\"/></a>"
      ]
    },
    {
      "cell_type": "markdown",
      "source": [
        "暫時沒有任何資料，可以找一個學校你有興趣的規定，比如[政大學生獎懲辦法](https://osa.nccu.edu.tw/files/1431422025610b81850375e.pdf)來練習。"
      ],
      "metadata": {
        "id": "9z16UWbCuDf5"
      }
    },
    {
      "cell_type": "markdown",
      "source": [
        "### 1. 建立資料夾"
      ],
      "metadata": {
        "id": "2x0CkPdF8O4n"
      }
    },
    {
      "cell_type": "code",
      "execution_count": null,
      "metadata": {
        "id": "Gfq9Ca9C71vz"
      },
      "outputs": [],
      "source": [
        "import os\n",
        "upload_dir = \"uploaded_docs\"\n",
        "os.makedirs(upload_dir, exist_ok=True)\n",
        "print(f\"請將你的 .txt, .pdf, .docx 檔案放到這個資料夾中： {upload_dir}\")"
      ]
    },
    {
      "cell_type": "markdown",
      "source": [
        "<font color=\"red\">請手動上傳自己的檔案再繼續。</font>"
      ],
      "metadata": {
        "id": "rzgPmz8U8dig"
      }
    },
    {
      "cell_type": "markdown",
      "source": [
        "### 2. 更新必要套件並引入"
      ],
      "metadata": {
        "id": "xyEPtSec8XHm"
      }
    },
    {
      "cell_type": "code",
      "source": [
        "!pip install -U langchain langchain-community pypdf python-docx faiss-cpu\n",
        "!pip install -U sentence-transformers transformers"
      ],
      "metadata": {
        "id": "mWVwCLE49l2F"
      },
      "execution_count": null,
      "outputs": []
    },
    {
      "cell_type": "markdown",
      "source": [
        "# 安裝最新的 langchain 並使用新寫法"
      ],
      "metadata": {
        "id": "rsL5a1y2Het9"
      }
    },
    {
      "cell_type": "code",
      "source": [
        "!pip install --upgrade langchain langchain-community langchain-text-splitters langchain-huggingface faiss-cpu\n"
      ],
      "metadata": {
        "id": "ME7kQH8pHS3l"
      },
      "execution_count": null,
      "outputs": []
    },
    {
      "cell_type": "code",
      "source": [
        "from langchain_community.document_loaders import TextLoader, PyPDFLoader, UnstructuredWordDocumentLoader\n",
        "from langchain_text_splitters import RecursiveCharacterTextSplitter\n",
        "from langchain_huggingface import HuggingFaceEmbeddings\n",
        "from langchain_community.vectorstores import FAISS\n"
      ],
      "metadata": {
        "id": "vl3FTfQM8VE1"
      },
      "execution_count": null,
      "outputs": []
    },
    {
      "cell_type": "markdown",
      "source": [
        "### 3. 依 Google 建議加入 EmbeddingGemma 前綴\n",
        "\n",
        "Google 建議, 在文本部份的 Embedding 要用以下格式:\n",
        "\n",
        "    title: {title|none} | text: ...\n",
        "\n",
        "而問題 Query 要用:\n",
        "\n",
        "    Query：task: search result | query: ..."
      ],
      "metadata": {
        "id": "BQVRqMsu-V78"
      }
    },
    {
      "cell_type": "code",
      "source": [
        "from langchain_huggingface import HuggingFaceEmbeddings\n",
        "\n",
        "# from langchain.embeddings import HuggingFaceEmbeddings"
      ],
      "metadata": {
        "id": "Hs3YZvis9CiJ"
      },
      "execution_count": null,
      "outputs": []
    },
    {
      "cell_type": "code",
      "source": [
        "class EmbeddingGemmaEmbeddings(HuggingFaceEmbeddings):\n",
        "    def __init__(self, **kwargs):\n",
        "        super().__init__(\n",
        "            model_name=\"google/embeddinggemma-300m\",   # HF 上的官方模型\n",
        "            encode_kwargs={\"normalize_embeddings\": True},  # 一般檢索慣例\n",
        "            **kwargs\n",
        "        )\n",
        "\n",
        "    def embed_documents(self, texts):\n",
        "        # 文件向量：title 可用 \"none\"，或自行帶入檔名/章節標題以微幅加分\n",
        "        texts = [f'title: none | text: {t}' for t in texts]\n",
        "        return super().embed_documents(texts)\n",
        "\n",
        "    def embed_query(self, text):\n",
        "        # 查詢向量：官方建議的 Retrieval-Query 前綴\n",
        "        return super().embed_query(f'task: search result | query: {text}')"
      ],
      "metadata": {
        "id": "QqSqZwHLmIvf"
      },
      "execution_count": null,
      "outputs": []
    },
    {
      "cell_type": "markdown",
      "source": [
        "### 4. 載入文件"
      ],
      "metadata": {
        "id": "jmWZud76-jRt"
      }
    },
    {
      "cell_type": "code",
      "source": [
        "folder_path = upload_dir\n",
        "documents = []\n",
        "for file in os.listdir(folder_path):\n",
        "    path = os.path.join(folder_path, file)\n",
        "    if file.endswith(\".txt\"):\n",
        "        loader = TextLoader(path)\n",
        "    elif file.endswith(\".pdf\"):\n",
        "        loader = PyPDFLoader(path)\n",
        "    elif file.endswith(\".docx\"):\n",
        "        loader = UnstructuredWordDocumentLoader(path)\n",
        "    else:\n",
        "        continue\n",
        "    documents.extend(loader.load())"
      ],
      "metadata": {
        "id": "cfZPj3Oo-fPZ"
      },
      "execution_count": null,
      "outputs": []
    },
    {
      "cell_type": "markdown",
      "source": [
        "### 5. 建立向量資料庫"
      ],
      "metadata": {
        "id": "wvg1cAwn-rLC"
      }
    },
    {
      "cell_type": "code",
      "source": [
        "splitter = RecursiveCharacterTextSplitter(chunk_size=500, chunk_overlap=100)\n",
        "split_docs = splitter.split_documents(documents)"
      ],
      "metadata": {
        "id": "EMke5c4n-m1s"
      },
      "execution_count": null,
      "outputs": []
    },
    {
      "cell_type": "code",
      "source": [
        "from google.colab import userdata\n",
        "hf_token = userdata.get('HuggingFace')"
      ],
      "metadata": {
        "id": "d-82jAnuouKe"
      },
      "execution_count": null,
      "outputs": []
    },
    {
      "cell_type": "code",
      "source": [
        "from huggingface_hub import login\n",
        "login(token=hf_token)"
      ],
      "metadata": {
        "id": "Ea7yrCGvsUBr"
      },
      "execution_count": null,
      "outputs": []
    },
    {
      "cell_type": "code",
      "source": [
        "embedding_model = EmbeddingGemmaEmbeddings()\n",
        "vectorstore = FAISS.from_documents(split_docs, embedding_model)"
      ],
      "metadata": {
        "id": "RZqJOiaE-vrI"
      },
      "execution_count": null,
      "outputs": []
    },
    {
      "cell_type": "markdown",
      "source": [
        "### 6. 儲存向量資料庫"
      ],
      "metadata": {
        "id": "dqvR4i8Y-5du"
      }
    },
    {
      "cell_type": "code",
      "source": [
        "vectorstore.save_local(\"faiss_db\")"
      ],
      "metadata": {
        "id": "KxdIhkku-2Zf"
      },
      "execution_count": null,
      "outputs": []
    },
    {
      "cell_type": "code",
      "source": [
        "!zip -r faiss_db.zip faiss_db"
      ],
      "metadata": {
        "id": "Pw23tkEKUfPW"
      },
      "execution_count": null,
      "outputs": []
    },
    {
      "cell_type": "code",
      "source": [
        "print(\"✅ 壓縮好的向量資料庫已儲存為 'faiss_db.zip'，請下載此檔案備份。\")"
      ],
      "metadata": {
        "id": "vCiRAlnrVUCJ"
      },
      "execution_count": null,
      "outputs": []
    }
  ]
}